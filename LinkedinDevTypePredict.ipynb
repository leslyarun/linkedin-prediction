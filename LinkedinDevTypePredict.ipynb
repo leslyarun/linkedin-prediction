{
  "nbformat": 4,
  "nbformat_minor": 0,
  "metadata": {
    "colab": {
      "name": "LinkedinDevTypePredict.ipynb",
      "version": "0.3.2",
      "provenance": []
    },
    "kernelspec": {
      "name": "python3",
      "display_name": "Python 3"
    },
    "accelerator": "GPU"
  },
  "cells": [
    {
      "metadata": {
        "id": "-ISAPZvh5h2Z",
        "colab_type": "code",
        "colab": {}
      },
      "cell_type": "code",
      "source": [
        "import os\n",
        "import matplotlib.pyplot as plt\n",
        "\n",
        "import tensorflow as tf\n",
        "# import tensorflow.contrib.eager as tfe\n",
        "\n",
        "# tf.enable_eager_execution()\n",
        "\n",
        "# print(\"TensorFlow version: {}\".format(tf.VERSION))\n",
        "# print(\"Eager execution: {}\".format(tf.executing_eagerly()))"
      ],
      "execution_count": 0,
      "outputs": []
    },
    {
      "metadata": {
        "id": "QN27fPG65scv",
        "colab_type": "code",
        "colab": {
          "base_uri": "https://localhost:8080/",
          "height": 35
        },
        "outputId": "bfa491b3-a158-4860-a63d-aa1f98b3746b"
      },
      "cell_type": "code",
      "source": [
        "from keras.models import Sequential\n",
        "from keras.layers import Dense, Activation\n",
        "from keras.preprocessing.text import Tokenizer"
      ],
      "execution_count": 2,
      "outputs": [
        {
          "output_type": "stream",
          "text": [
            "Using TensorFlow backend.\n"
          ],
          "name": "stderr"
        }
      ]
    },
    {
      "metadata": {
        "id": "17RSNl3Q88Di",
        "colab_type": "code",
        "colab": {
          "resources": {
            "http://localhost:8080/nbextensions/google.colab/files.js": {
              "data": "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",
              "ok": true,
              "headers": [
                [
                  "content-type",
                  "application/javascript"
                ]
              ],
              "status": 200,
              "status_text": ""
            }
          },
          "base_uri": "https://localhost:8080/",
          "height": 91
        },
        "outputId": "90b72d4b-dd9b-4c95-96ae-d785e988d1a7"
      },
      "cell_type": "code",
      "source": [
        "from google.colab import files\n",
        "\n",
        "uploaded = files.upload()\n",
        "\n",
        "for fn in uploaded.keys():\n",
        "  print('User uploaded file \"{name}\" with length {length} bytes'.format(\n",
        "      name=fn, length=len(uploaded[fn])))"
      ],
      "execution_count": 4,
      "outputs": [
        {
          "output_type": "display_data",
          "data": {
            "text/html": [
              "\n",
              "     <input type=\"file\" id=\"files-7f6ad895-ce9b-4d94-8c90-108ff95f4e76\" name=\"files[]\" multiple disabled />\n",
              "     <output id=\"result-7f6ad895-ce9b-4d94-8c90-108ff95f4e76\">\n",
              "      Upload widget is only available when the cell has been executed in the\n",
              "      current browser session. Please rerun this cell to enable.\n",
              "      </output>\n",
              "      <script src=\"/nbextensions/google.colab/files.js\"></script> "
            ],
            "text/plain": [
              "<IPython.core.display.HTML object>"
            ]
          },
          "metadata": {
            "tags": []
          }
        },
        {
          "output_type": "stream",
          "text": [
            "Saving linkedin_developer_nlp_analysis.xlsx to linkedin_developer_nlp_analysis (4).xlsx\n",
            "User uploaded file \"linkedin_developer_nlp_analysis.xlsx\" with length 61497 bytes\n"
          ],
          "name": "stdout"
        }
      ]
    },
    {
      "metadata": {
        "id": "G0TP8IqH9LRH",
        "colab_type": "code",
        "colab": {}
      },
      "cell_type": "code",
      "source": [
        "import numpy as np\n",
        "import pandas as pd"
      ],
      "execution_count": 0,
      "outputs": []
    },
    {
      "metadata": {
        "id": "J8TB_-_L92v5",
        "colab_type": "code",
        "colab": {
          "base_uri": "https://localhost:8080/",
          "height": 35
        },
        "outputId": "1eb086ec-eb2b-4988-d5b9-eeb87ea81fbc"
      },
      "cell_type": "code",
      "source": [
        "!pip install xlrd"
      ],
      "execution_count": 6,
      "outputs": [
        {
          "output_type": "stream",
          "text": [
            "Requirement already satisfied: xlrd in /usr/local/lib/python3.6/dist-packages (1.1.0)\r\n"
          ],
          "name": "stdout"
        }
      ]
    },
    {
      "metadata": {
        "id": "5b6Nkzwz9Vi6",
        "colab_type": "code",
        "colab": {}
      },
      "cell_type": "code",
      "source": [
        "df = pd.read_excel(\"./linkedin_developer_nlp_analysis (4).xlsx\")"
      ],
      "execution_count": 0,
      "outputs": []
    },
    {
      "metadata": {
        "id": "HBDiXbjU9eO-",
        "colab_type": "code",
        "colab": {
          "base_uri": "https://localhost:8080/",
          "height": 621
        },
        "outputId": "4adc8023-40bc-4ed4-e3ea-f406363453f8"
      },
      "cell_type": "code",
      "source": [
        "df.head()"
      ],
      "execution_count": 8,
      "outputs": [
        {
          "output_type": "execute_result",
          "data": {
            "text/html": [
              "<div>\n",
              "<style scoped>\n",
              "    .dataframe tbody tr th:only-of-type {\n",
              "        vertical-align: middle;\n",
              "    }\n",
              "\n",
              "    .dataframe tbody tr th {\n",
              "        vertical-align: top;\n",
              "    }\n",
              "\n",
              "    .dataframe thead th {\n",
              "        text-align: right;\n",
              "    }\n",
              "</style>\n",
              "<table border=\"1\" class=\"dataframe\">\n",
              "  <thead>\n",
              "    <tr style=\"text-align: right;\">\n",
              "      <th></th>\n",
              "      <th>URL</th>\n",
              "      <th>NAME</th>\n",
              "      <th>POSITION</th>\n",
              "      <th>COMPANY NAME IN EXP</th>\n",
              "      <th>Unnamed: 4</th>\n",
              "      <th>YEAR OF JOIN</th>\n",
              "      <th>PRESENT</th>\n",
              "      <th>TOTAL EXPER IN YEAR</th>\n",
              "      <th>LOCATION</th>\n",
              "      <th>OTHER INFO</th>\n",
              "      <th>SKILL</th>\n",
              "      <th>OTHER SKILL</th>\n",
              "      <th>TACT SKILL</th>\n",
              "      <th>DATE</th>\n",
              "    </tr>\n",
              "  </thead>\n",
              "  <tbody>\n",
              "    <tr>\n",
              "      <th>0</th>\n",
              "      <td>https://www.linkedin.com/in/saravanan90/</td>\n",
              "      <td>Saravanan Shanmugam</td>\n",
              "      <td>Full Stack Developer</td>\n",
              "      <td>An ardent learner getting exposed to new conce...</td>\n",
              "      <td>Tenmiles</td>\n",
              "      <td>2016</td>\n",
              "      <td>1</td>\n",
              "      <td>4.7</td>\n",
              "      <td>Chennai, Tamil Nadu, India</td>\n",
              "      <td>Web Developer Tech Lead,Web Developer,Java Tra...</td>\n",
              "      <td>NaN</td>\n",
              "      <td>NaN</td>\n",
              "      <td>NaN</td>\n",
              "      <td>2018-05-28 11:04:26</td>\n",
              "    </tr>\n",
              "    <tr>\n",
              "      <th>1</th>\n",
              "      <td>https://www.linkedin.com/in/rajeshwar-dhayalan...</td>\n",
              "      <td>Rajeshwar Dhayalan</td>\n",
              "      <td>Full Stack Developer</td>\n",
              "      <td>Looking towards the new technology and the get...</td>\n",
              "      <td>ITILITE</td>\n",
              "      <td>2018</td>\n",
              "      <td>1</td>\n",
              "      <td>2.4</td>\n",
              "      <td>Vellore, Tamil Nadu, India</td>\n",
              "      <td>Working as Associate Software Engineer. As a S...</td>\n",
              "      <td>NaN</td>\n",
              "      <td>NaN</td>\n",
              "      <td>NaN</td>\n",
              "      <td>2018-05-28 11:05:37</td>\n",
              "    </tr>\n",
              "    <tr>\n",
              "      <th>2</th>\n",
              "      <td>https://www.linkedin.com/in/vigneshwara-manika...</td>\n",
              "      <td>vigneshwara manikandan</td>\n",
              "      <td>Full Stack Developer</td>\n",
              "      <td>Experienced iOS App Developer with a demonstra...</td>\n",
              "      <td>Cisco</td>\n",
              "      <td>2017</td>\n",
              "      <td>1</td>\n",
              "      <td>2.0</td>\n",
              "      <td>Chennai Area, India</td>\n",
              "      <td>NaN</td>\n",
              "      <td>NaN</td>\n",
              "      <td>NaN</td>\n",
              "      <td>NaN</td>\n",
              "      <td>2018-05-28 11:07:04</td>\n",
              "    </tr>\n",
              "    <tr>\n",
              "      <th>3</th>\n",
              "      <td>https://www.linkedin.com/in/madhan-chandar/</td>\n",
              "      <td>Madhan Balachandar</td>\n",
              "      <td>Full Stack Developer</td>\n",
              "      <td>I am an avid technology enthusiast. Skilled in...</td>\n",
              "      <td>Sirius Computer Solutions</td>\n",
              "      <td>2017</td>\n",
              "      <td>1</td>\n",
              "      <td>0.1</td>\n",
              "      <td>Chennai, Tamil Nadu, India</td>\n",
              "      <td>NaN</td>\n",
              "      <td>NaN</td>\n",
              "      <td>NaN</td>\n",
              "      <td>NaN</td>\n",
              "      <td>2018-05-28 11:07:18</td>\n",
              "    </tr>\n",
              "    <tr>\n",
              "      <th>4</th>\n",
              "      <td>https://www.linkedin.com/in/karthik-venkatesh-...</td>\n",
              "      <td>Karthik Venkatesh</td>\n",
              "      <td>Full-Stack Developer</td>\n",
              "      <td>Full Stack developer with the ability to desig...</td>\n",
              "      <td>Amazon</td>\n",
              "      <td>2013</td>\n",
              "      <td>1</td>\n",
              "      <td>5.3</td>\n",
              "      <td>Chennai, Tamil Nadu, India</td>\n",
              "      <td>ESTABLISHED an IMAGING LABS for developing sev...</td>\n",
              "      <td>NaN</td>\n",
              "      <td>NaN</td>\n",
              "      <td>NaN</td>\n",
              "      <td>2018-05-28 11:07:37</td>\n",
              "    </tr>\n",
              "  </tbody>\n",
              "</table>\n",
              "</div>"
            ],
            "text/plain": [
              "                                                 URL                    NAME  \\\n",
              "0           https://www.linkedin.com/in/saravanan90/     Saravanan Shanmugam   \n",
              "1  https://www.linkedin.com/in/rajeshwar-dhayalan...      Rajeshwar Dhayalan   \n",
              "2  https://www.linkedin.com/in/vigneshwara-manika...  vigneshwara manikandan   \n",
              "3        https://www.linkedin.com/in/madhan-chandar/      Madhan Balachandar   \n",
              "4  https://www.linkedin.com/in/karthik-venkatesh-...       Karthik Venkatesh   \n",
              "\n",
              "                POSITION                                COMPANY NAME IN EXP  \\\n",
              "0  Full Stack Developer   An ardent learner getting exposed to new conce...   \n",
              "1  Full Stack Developer   Looking towards the new technology and the get...   \n",
              "2  Full Stack Developer   Experienced iOS App Developer with a demonstra...   \n",
              "3  Full Stack Developer   I am an avid technology enthusiast. Skilled in...   \n",
              "4   Full-Stack Developer  Full Stack developer with the ability to desig...   \n",
              "\n",
              "                  Unnamed: 4  YEAR OF JOIN  PRESENT  TOTAL EXPER IN YEAR  \\\n",
              "0                   Tenmiles          2016        1                  4.7   \n",
              "1                    ITILITE          2018        1                  2.4   \n",
              "2                      Cisco          2017        1                  2.0   \n",
              "3  Sirius Computer Solutions          2017        1                  0.1   \n",
              "4                     Amazon          2013        1                  5.3   \n",
              "\n",
              "                     LOCATION  \\\n",
              "0  Chennai, Tamil Nadu, India   \n",
              "1  Vellore, Tamil Nadu, India   \n",
              "2         Chennai Area, India   \n",
              "3  Chennai, Tamil Nadu, India   \n",
              "4  Chennai, Tamil Nadu, India   \n",
              "\n",
              "                                          OTHER INFO  SKILL  OTHER SKILL  \\\n",
              "0  Web Developer Tech Lead,Web Developer,Java Tra...    NaN          NaN   \n",
              "1  Working as Associate Software Engineer. As a S...    NaN          NaN   \n",
              "2                                                NaN    NaN          NaN   \n",
              "3                                                NaN    NaN          NaN   \n",
              "4  ESTABLISHED an IMAGING LABS for developing sev...    NaN          NaN   \n",
              "\n",
              "   TACT SKILL                 DATE  \n",
              "0         NaN  2018-05-28 11:04:26  \n",
              "1         NaN  2018-05-28 11:05:37  \n",
              "2         NaN  2018-05-28 11:07:04  \n",
              "3         NaN  2018-05-28 11:07:18  \n",
              "4         NaN  2018-05-28 11:07:37  "
            ]
          },
          "metadata": {
            "tags": []
          },
          "execution_count": 8
        }
      ]
    },
    {
      "metadata": {
        "id": "9N2e7n0U99Xp",
        "colab_type": "code",
        "colab": {
          "base_uri": "https://localhost:8080/",
          "height": 55
        },
        "outputId": "a1091dbb-65a5-4e28-c60e-7a33c877220b"
      },
      "cell_type": "code",
      "source": [
        "df['text'] = df['OTHER INFO'] +\" \"+ df['COMPANY NAME IN EXP']\n",
        "df['text'][0]"
      ],
      "execution_count": 9,
      "outputs": [
        {
          "output_type": "execute_result",
          "data": {
            "text/plain": [
              "'Web Developer Tech Lead,Web Developer,Java Trainee Web Developer An ardent learner getting exposed to new concepts and sticking to fundamentals, putting them into practice to bring out innovative ideas and solutions. Currently engaged in front end development and having fun and learning in the world of web.'"
            ]
          },
          "metadata": {
            "tags": []
          },
          "execution_count": 9
        }
      ]
    },
    {
      "metadata": {
        "id": "7-5zgU639hWR",
        "colab_type": "code",
        "colab": {}
      },
      "cell_type": "code",
      "source": [
        "X = df['text']"
      ],
      "execution_count": 0,
      "outputs": []
    },
    {
      "metadata": {
        "id": "IRARE6i6b1Ad",
        "colab_type": "code",
        "colab": {
          "base_uri": "https://localhost:8080/",
          "height": 1092
        },
        "outputId": "8d82c7fb-ac17-4e97-8448-5dfc54a0e7bd"
      },
      "cell_type": "code",
      "source": [
        "X.fillna('.', inplace=True)\n",
        "X"
      ],
      "execution_count": 11,
      "outputs": [
        {
          "output_type": "execute_result",
          "data": {
            "text/plain": [
              "0      Web Developer Tech Lead,Web Developer,Java Tra...\n",
              "1      Working as Associate Software Engineer. As a S...\n",
              "2                                                      .\n",
              "3                                                      .\n",
              "4      ESTABLISHED an IMAGING LABS for developing sev...\n",
              "5      Working as Full stack developer,Working as a W...\n",
              "6      Full stack development comprising of Ruby on R...\n",
              "7      We build awesome digital products that have th...\n",
              "8       HappyFox Helpdesk Design and Development usin...\n",
              "9                                                      .\n",
              "10     Joined the company as the first employee. Deve...\n",
              "11     ● Working as a Full Stack Developer at Tapzo s...\n",
              "12     Java/J2EE developer and Part of Technology tea...\n",
              "13     Full Stack Web Developer. Worked on maintainin...\n",
              "14     Developing digital banking application for cli...\n",
              "15     Specialized in Creating as well as integrating...\n",
              "16                                                     .\n",
              "17                                                     .\n",
              "18     nvolved in Developing Data Masking tool for Co...\n",
              "19                                                     .\n",
              "20     As an SEO executive i was responsible for -* B...\n",
              "21     • Currently working on Phased App roll-out fea...\n",
              "22      Currently working on Phased App roll-out feat...\n",
              "23     My responsibilities are to analyse the require...\n",
              "24                                                     .\n",
              "25                                                     .\n",
              "26     Responsible for developing and providing full ...\n",
              "27      Writing software solutions which help the ind...\n",
              "28     Responsible for developing the front-end of a ...\n",
              "29     Worked as a full stack developer in a product ...\n",
              "                             ...                        \n",
              "144                                                    .\n",
              "145                                                    .\n",
              "146                                                    .\n",
              "147    Developing an end-to-end web application. A sk...\n",
              "148    Working on pyhton, django, celery, html, javas...\n",
              "149                                                    .\n",
              "150    Understand requirements, create technology sta...\n",
              "151    To take care of the technical issues in the co...\n",
              "152                                                    .\n",
              "153                                                    .\n",
              "154    outsourced; Dear recruiters, unless you offer ...\n",
              "155    Backend developer (Java / Groovy / SQL) & Fron...\n",
              "156    Worked in a team, developing the company's cor...\n",
              "157    Some technologies that i use, Drupal 7 Akeneo ...\n",
              "158                                                    .\n",
              "159                                                    .\n",
              "160                                                    .\n",
              "161                                                    .\n",
              "162                                                    .\n",
              "163                                                    .\n",
              "164                                                    .\n",
              "165                                                    .\n",
              "166                                                    .\n",
              "167                                                    .\n",
              "168                                                    .\n",
              "169                                                    .\n",
              "170                                                    .\n",
              "171                                                    .\n",
              "172                                                    .\n",
              "173                                                    .\n",
              "Name: text, Length: 174, dtype: object"
            ]
          },
          "metadata": {
            "tags": []
          },
          "execution_count": 11
        }
      ]
    },
    {
      "metadata": {
        "id": "mrH1fRUdckNL",
        "colab_type": "code",
        "colab": {
          "base_uri": "https://localhost:8080/",
          "height": 1092
        },
        "outputId": "7e652357-754d-45c1-9d42-dd593276ce10"
      },
      "cell_type": "code",
      "source": [
        "position = df['POSITION'].str.lower()\n",
        "position"
      ],
      "execution_count": 12,
      "outputs": [
        {
          "output_type": "execute_result",
          "data": {
            "text/plain": [
              "0                                  full stack developer \n",
              "1                                  full stack developer \n",
              "2                                  full stack developer \n",
              "3                                  full stack developer \n",
              "4                                   full-stack developer\n",
              "5                                  full stack developer \n",
              "6                                  full stack developer \n",
              "7                                   full stack developer\n",
              "8                      full stack developer @ hippovideo\n",
              "9                                  full stack developer \n",
              "10                              full stack developer | d\n",
              "11                                 full stack developer \n",
              "12     full stack developer | java | elasticsearch | ...\n",
              "13                       full stack developer @ gobumpr!\n",
              "14                                  full stack developer\n",
              "15                                (full stack developer)\n",
              "16                                 full stack developer \n",
              "17                                 full stack developer \n",
              "18                                 full stack developer \n",
              "19                                 full stack developer \n",
              "20     full-stack developer | angular js | laravel fr...\n",
              "21                                 full stack developer \n",
              "22                             full stack/game developer\n",
              "23                 full stack web and android developer \n",
              "24                   full stack javascript web developer\n",
              "25                                             fullstack\n",
              "26                      freelance - full stack developer\n",
              "27     full stack developer (core team) - maximl | ri...\n",
              "28                                 full stack developer \n",
              "29                                 full stack developer \n",
              "                             ...                        \n",
              "144    full stack developer | node.js | reactjs | and...\n",
              "145                              full stack js developer\n",
              "146                                full stack developer \n",
              "147                                full stack developer \n",
              "148                                full stack developer \n",
              "149                                 full stack developer\n",
              "150    full stack developer/solution architect/team lead\n",
              "151                                full stack developer \n",
              "152                              fullstack js developer \n",
              "153                            fullstack .net developer \n",
              "154                            fullstack java developer \n",
              "155                 fullstack developer (java / angular)\n",
              "156                                            fullstack\n",
              "157            fullstack software developer en dentaltix\n",
              "158                                 fullstack developer \n",
              "159                             fullstack web developer \n",
              "160                  junior fullstack developer @ agroop\n",
              "161                                 front end developer \n",
              "162                                  front end developer\n",
              "163                                  front end developer\n",
              "164                                 front end developer \n",
              "165                                 front end developer \n",
              "166                                   frontend developer\n",
              "167                                 front-end developer \n",
              "168                                         ui developer\n",
              "169                              front-end web developer\n",
              "170                                  back-end developer \n",
              "171                                  back end developer \n",
              "172                            back-end developer @ salk\n",
              "173                                  back end developer \n",
              "Name: POSITION, Length: 174, dtype: object"
            ]
          },
          "metadata": {
            "tags": []
          },
          "execution_count": 12
        }
      ]
    },
    {
      "metadata": {
        "id": "9ezVlrZvdbzE",
        "colab_type": "code",
        "colab": {
          "base_uri": "https://localhost:8080/",
          "height": 3033
        },
        "outputId": "f6d6f685-2c1e-4b45-bff9-38526caacdd0"
      },
      "cell_type": "code",
      "source": [
        "pos = [None] * len(position)\n",
        "pos"
      ],
      "execution_count": 18,
      "outputs": [
        {
          "output_type": "execute_result",
          "data": {
            "text/plain": [
              "[None,\n",
              " None,\n",
              " None,\n",
              " None,\n",
              " None,\n",
              " None,\n",
              " None,\n",
              " None,\n",
              " None,\n",
              " None,\n",
              " None,\n",
              " None,\n",
              " None,\n",
              " None,\n",
              " None,\n",
              " None,\n",
              " None,\n",
              " None,\n",
              " None,\n",
              " None,\n",
              " None,\n",
              " None,\n",
              " None,\n",
              " None,\n",
              " None,\n",
              " None,\n",
              " None,\n",
              " None,\n",
              " None,\n",
              " None,\n",
              " None,\n",
              " None,\n",
              " None,\n",
              " None,\n",
              " None,\n",
              " None,\n",
              " None,\n",
              " None,\n",
              " None,\n",
              " None,\n",
              " None,\n",
              " None,\n",
              " None,\n",
              " None,\n",
              " None,\n",
              " None,\n",
              " None,\n",
              " None,\n",
              " None,\n",
              " None,\n",
              " None,\n",
              " None,\n",
              " None,\n",
              " None,\n",
              " None,\n",
              " None,\n",
              " None,\n",
              " None,\n",
              " None,\n",
              " None,\n",
              " None,\n",
              " None,\n",
              " None,\n",
              " None,\n",
              " None,\n",
              " None,\n",
              " None,\n",
              " None,\n",
              " None,\n",
              " None,\n",
              " None,\n",
              " None,\n",
              " None,\n",
              " None,\n",
              " None,\n",
              " None,\n",
              " None,\n",
              " None,\n",
              " None,\n",
              " None,\n",
              " None,\n",
              " None,\n",
              " None,\n",
              " None,\n",
              " None,\n",
              " None,\n",
              " None,\n",
              " None,\n",
              " None,\n",
              " None,\n",
              " None,\n",
              " None,\n",
              " None,\n",
              " None,\n",
              " None,\n",
              " None,\n",
              " None,\n",
              " None,\n",
              " None,\n",
              " None,\n",
              " None,\n",
              " None,\n",
              " None,\n",
              " None,\n",
              " None,\n",
              " None,\n",
              " None,\n",
              " None,\n",
              " None,\n",
              " None,\n",
              " None,\n",
              " None,\n",
              " None,\n",
              " None,\n",
              " None,\n",
              " None,\n",
              " None,\n",
              " None,\n",
              " None,\n",
              " None,\n",
              " None,\n",
              " None,\n",
              " None,\n",
              " None,\n",
              " None,\n",
              " None,\n",
              " None,\n",
              " None,\n",
              " None,\n",
              " None,\n",
              " None,\n",
              " None,\n",
              " None,\n",
              " None,\n",
              " None,\n",
              " None,\n",
              " None,\n",
              " None,\n",
              " None,\n",
              " None,\n",
              " None,\n",
              " None,\n",
              " None,\n",
              " None,\n",
              " None,\n",
              " None,\n",
              " None,\n",
              " None,\n",
              " None,\n",
              " None,\n",
              " None,\n",
              " None,\n",
              " None,\n",
              " None,\n",
              " None,\n",
              " None,\n",
              " None,\n",
              " None,\n",
              " None,\n",
              " None,\n",
              " None,\n",
              " None,\n",
              " None,\n",
              " None,\n",
              " None,\n",
              " None,\n",
              " None,\n",
              " None,\n",
              " None,\n",
              " None,\n",
              " None,\n",
              " None,\n",
              " None,\n",
              " None]"
            ]
          },
          "metadata": {
            "tags": []
          },
          "execution_count": 18
        }
      ]
    },
    {
      "metadata": {
        "id": "DDMUZVJm0IY9",
        "colab_type": "code",
        "colab": {
          "base_uri": "https://localhost:8080/",
          "height": 3033
        },
        "outputId": "bd2b79a3-4f08-4367-bc4b-2fe859f0ef63"
      },
      "cell_type": "code",
      "source": [
        "for i,j in enumerate(position.values):\n",
        "  if \"full\" in j:\n",
        "    pos[i] = \"FullStack\"\n",
        "  elif \"back\" in j:\n",
        "    pos[i] = \"BackEnd\"\n",
        "  elif \"ui\" in j or \"front\" in j:\n",
        "    pos[i] = \"FrontEnd\"\n",
        "pos"
      ],
      "execution_count": 19,
      "outputs": [
        {
          "output_type": "execute_result",
          "data": {
            "text/plain": [
              "['FullStack',\n",
              " 'FullStack',\n",
              " 'FullStack',\n",
              " 'FullStack',\n",
              " 'FullStack',\n",
              " 'FullStack',\n",
              " 'FullStack',\n",
              " 'FullStack',\n",
              " 'FullStack',\n",
              " 'FullStack',\n",
              " 'FullStack',\n",
              " 'FullStack',\n",
              " 'FullStack',\n",
              " 'FullStack',\n",
              " 'FullStack',\n",
              " 'FullStack',\n",
              " 'FullStack',\n",
              " 'FullStack',\n",
              " 'FullStack',\n",
              " 'FullStack',\n",
              " 'FullStack',\n",
              " 'FullStack',\n",
              " 'FullStack',\n",
              " 'FullStack',\n",
              " 'FullStack',\n",
              " 'FullStack',\n",
              " 'FullStack',\n",
              " 'FullStack',\n",
              " 'FullStack',\n",
              " 'FullStack',\n",
              " 'FullStack',\n",
              " 'FullStack',\n",
              " 'FullStack',\n",
              " 'FullStack',\n",
              " 'FullStack',\n",
              " 'FullStack',\n",
              " 'FullStack',\n",
              " 'FullStack',\n",
              " 'FullStack',\n",
              " 'FrontEnd',\n",
              " 'FrontEnd',\n",
              " 'FrontEnd',\n",
              " 'FrontEnd',\n",
              " 'FrontEnd',\n",
              " 'FrontEnd',\n",
              " 'FrontEnd',\n",
              " 'FrontEnd',\n",
              " 'FrontEnd',\n",
              " 'FrontEnd',\n",
              " 'FrontEnd',\n",
              " 'FrontEnd',\n",
              " 'FrontEnd',\n",
              " 'FrontEnd',\n",
              " 'FrontEnd',\n",
              " 'FrontEnd',\n",
              " 'FrontEnd',\n",
              " 'FrontEnd',\n",
              " 'FrontEnd',\n",
              " 'FrontEnd',\n",
              " 'FrontEnd',\n",
              " 'FrontEnd',\n",
              " 'FrontEnd',\n",
              " 'FrontEnd',\n",
              " 'FrontEnd',\n",
              " 'FrontEnd',\n",
              " 'FrontEnd',\n",
              " 'FrontEnd',\n",
              " 'FrontEnd',\n",
              " 'FrontEnd',\n",
              " 'FrontEnd',\n",
              " 'FrontEnd',\n",
              " 'FrontEnd',\n",
              " 'FrontEnd',\n",
              " 'FrontEnd',\n",
              " 'FrontEnd',\n",
              " 'FrontEnd',\n",
              " 'FrontEnd',\n",
              " 'FrontEnd',\n",
              " 'FrontEnd',\n",
              " 'FrontEnd',\n",
              " 'FullStack',\n",
              " 'BackEnd',\n",
              " 'BackEnd',\n",
              " 'BackEnd',\n",
              " 'BackEnd',\n",
              " 'FullStack',\n",
              " 'BackEnd',\n",
              " 'BackEnd',\n",
              " 'BackEnd',\n",
              " 'BackEnd',\n",
              " 'BackEnd',\n",
              " 'BackEnd',\n",
              " 'BackEnd',\n",
              " 'BackEnd',\n",
              " 'BackEnd',\n",
              " 'BackEnd',\n",
              " 'FullStack',\n",
              " 'BackEnd',\n",
              " 'BackEnd',\n",
              " 'BackEnd',\n",
              " 'FrontEnd',\n",
              " 'BackEnd',\n",
              " 'BackEnd',\n",
              " 'BackEnd',\n",
              " 'BackEnd',\n",
              " 'BackEnd',\n",
              " 'BackEnd',\n",
              " 'BackEnd',\n",
              " 'BackEnd',\n",
              " 'BackEnd',\n",
              " 'BackEnd',\n",
              " 'BackEnd',\n",
              " 'BackEnd',\n",
              " 'BackEnd',\n",
              " 'FrontEnd',\n",
              " 'BackEnd',\n",
              " 'BackEnd',\n",
              " 'BackEnd',\n",
              " 'BackEnd',\n",
              " 'BackEnd',\n",
              " 'BackEnd',\n",
              " 'BackEnd',\n",
              " 'BackEnd',\n",
              " 'BackEnd',\n",
              " 'BackEnd',\n",
              " 'BackEnd',\n",
              " 'BackEnd',\n",
              " 'BackEnd',\n",
              " 'BackEnd',\n",
              " 'BackEnd',\n",
              " 'BackEnd',\n",
              " 'BackEnd',\n",
              " 'BackEnd',\n",
              " 'FullStack',\n",
              " 'FullStack',\n",
              " 'FullStack',\n",
              " 'FullStack',\n",
              " 'FullStack',\n",
              " 'FullStack',\n",
              " 'FullStack',\n",
              " 'FullStack',\n",
              " 'FullStack',\n",
              " 'FullStack',\n",
              " 'FullStack',\n",
              " 'FullStack',\n",
              " 'FullStack',\n",
              " 'FullStack',\n",
              " 'FullStack',\n",
              " 'FullStack',\n",
              " 'FullStack',\n",
              " 'FullStack',\n",
              " 'FullStack',\n",
              " 'FullStack',\n",
              " 'FullStack',\n",
              " 'FullStack',\n",
              " 'FullStack',\n",
              " 'FullStack',\n",
              " 'FullStack',\n",
              " 'FullStack',\n",
              " 'FullStack',\n",
              " 'FullStack',\n",
              " 'FrontEnd',\n",
              " 'FrontEnd',\n",
              " 'FrontEnd',\n",
              " 'FrontEnd',\n",
              " 'FrontEnd',\n",
              " 'FrontEnd',\n",
              " 'FrontEnd',\n",
              " 'FrontEnd',\n",
              " 'FrontEnd',\n",
              " 'BackEnd',\n",
              " 'BackEnd',\n",
              " 'BackEnd',\n",
              " 'BackEnd']"
            ]
          },
          "metadata": {
            "tags": []
          },
          "execution_count": 19
        }
      ]
    },
    {
      "metadata": {
        "id": "6FEPEeVD-qUk",
        "colab_type": "code",
        "colab": {
          "base_uri": "https://localhost:8080/",
          "height": 3033
        },
        "outputId": "3113f18a-6f5b-4197-c0fe-5b75e5bbe90a"
      },
      "cell_type": "code",
      "source": [
        "y = pos\n",
        "y"
      ],
      "execution_count": 20,
      "outputs": [
        {
          "output_type": "execute_result",
          "data": {
            "text/plain": [
              "['FullStack',\n",
              " 'FullStack',\n",
              " 'FullStack',\n",
              " 'FullStack',\n",
              " 'FullStack',\n",
              " 'FullStack',\n",
              " 'FullStack',\n",
              " 'FullStack',\n",
              " 'FullStack',\n",
              " 'FullStack',\n",
              " 'FullStack',\n",
              " 'FullStack',\n",
              " 'FullStack',\n",
              " 'FullStack',\n",
              " 'FullStack',\n",
              " 'FullStack',\n",
              " 'FullStack',\n",
              " 'FullStack',\n",
              " 'FullStack',\n",
              " 'FullStack',\n",
              " 'FullStack',\n",
              " 'FullStack',\n",
              " 'FullStack',\n",
              " 'FullStack',\n",
              " 'FullStack',\n",
              " 'FullStack',\n",
              " 'FullStack',\n",
              " 'FullStack',\n",
              " 'FullStack',\n",
              " 'FullStack',\n",
              " 'FullStack',\n",
              " 'FullStack',\n",
              " 'FullStack',\n",
              " 'FullStack',\n",
              " 'FullStack',\n",
              " 'FullStack',\n",
              " 'FullStack',\n",
              " 'FullStack',\n",
              " 'FullStack',\n",
              " 'FrontEnd',\n",
              " 'FrontEnd',\n",
              " 'FrontEnd',\n",
              " 'FrontEnd',\n",
              " 'FrontEnd',\n",
              " 'FrontEnd',\n",
              " 'FrontEnd',\n",
              " 'FrontEnd',\n",
              " 'FrontEnd',\n",
              " 'FrontEnd',\n",
              " 'FrontEnd',\n",
              " 'FrontEnd',\n",
              " 'FrontEnd',\n",
              " 'FrontEnd',\n",
              " 'FrontEnd',\n",
              " 'FrontEnd',\n",
              " 'FrontEnd',\n",
              " 'FrontEnd',\n",
              " 'FrontEnd',\n",
              " 'FrontEnd',\n",
              " 'FrontEnd',\n",
              " 'FrontEnd',\n",
              " 'FrontEnd',\n",
              " 'FrontEnd',\n",
              " 'FrontEnd',\n",
              " 'FrontEnd',\n",
              " 'FrontEnd',\n",
              " 'FrontEnd',\n",
              " 'FrontEnd',\n",
              " 'FrontEnd',\n",
              " 'FrontEnd',\n",
              " 'FrontEnd',\n",
              " 'FrontEnd',\n",
              " 'FrontEnd',\n",
              " 'FrontEnd',\n",
              " 'FrontEnd',\n",
              " 'FrontEnd',\n",
              " 'FrontEnd',\n",
              " 'FrontEnd',\n",
              " 'FrontEnd',\n",
              " 'FrontEnd',\n",
              " 'FullStack',\n",
              " 'BackEnd',\n",
              " 'BackEnd',\n",
              " 'BackEnd',\n",
              " 'BackEnd',\n",
              " 'FullStack',\n",
              " 'BackEnd',\n",
              " 'BackEnd',\n",
              " 'BackEnd',\n",
              " 'BackEnd',\n",
              " 'BackEnd',\n",
              " 'BackEnd',\n",
              " 'BackEnd',\n",
              " 'BackEnd',\n",
              " 'BackEnd',\n",
              " 'BackEnd',\n",
              " 'FullStack',\n",
              " 'BackEnd',\n",
              " 'BackEnd',\n",
              " 'BackEnd',\n",
              " 'FrontEnd',\n",
              " 'BackEnd',\n",
              " 'BackEnd',\n",
              " 'BackEnd',\n",
              " 'BackEnd',\n",
              " 'BackEnd',\n",
              " 'BackEnd',\n",
              " 'BackEnd',\n",
              " 'BackEnd',\n",
              " 'BackEnd',\n",
              " 'BackEnd',\n",
              " 'BackEnd',\n",
              " 'BackEnd',\n",
              " 'BackEnd',\n",
              " 'FrontEnd',\n",
              " 'BackEnd',\n",
              " 'BackEnd',\n",
              " 'BackEnd',\n",
              " 'BackEnd',\n",
              " 'BackEnd',\n",
              " 'BackEnd',\n",
              " 'BackEnd',\n",
              " 'BackEnd',\n",
              " 'BackEnd',\n",
              " 'BackEnd',\n",
              " 'BackEnd',\n",
              " 'BackEnd',\n",
              " 'BackEnd',\n",
              " 'BackEnd',\n",
              " 'BackEnd',\n",
              " 'BackEnd',\n",
              " 'BackEnd',\n",
              " 'BackEnd',\n",
              " 'FullStack',\n",
              " 'FullStack',\n",
              " 'FullStack',\n",
              " 'FullStack',\n",
              " 'FullStack',\n",
              " 'FullStack',\n",
              " 'FullStack',\n",
              " 'FullStack',\n",
              " 'FullStack',\n",
              " 'FullStack',\n",
              " 'FullStack',\n",
              " 'FullStack',\n",
              " 'FullStack',\n",
              " 'FullStack',\n",
              " 'FullStack',\n",
              " 'FullStack',\n",
              " 'FullStack',\n",
              " 'FullStack',\n",
              " 'FullStack',\n",
              " 'FullStack',\n",
              " 'FullStack',\n",
              " 'FullStack',\n",
              " 'FullStack',\n",
              " 'FullStack',\n",
              " 'FullStack',\n",
              " 'FullStack',\n",
              " 'FullStack',\n",
              " 'FullStack',\n",
              " 'FrontEnd',\n",
              " 'FrontEnd',\n",
              " 'FrontEnd',\n",
              " 'FrontEnd',\n",
              " 'FrontEnd',\n",
              " 'FrontEnd',\n",
              " 'FrontEnd',\n",
              " 'FrontEnd',\n",
              " 'FrontEnd',\n",
              " 'BackEnd',\n",
              " 'BackEnd',\n",
              " 'BackEnd',\n",
              " 'BackEnd']"
            ]
          },
          "metadata": {
            "tags": []
          },
          "execution_count": 20
        }
      ]
    },
    {
      "metadata": {
        "id": "2eBKiowZMzXi",
        "colab_type": "code",
        "colab": {}
      },
      "cell_type": "code",
      "source": [
        "from sklearn.preprocessing import LabelBinarizer"
      ],
      "execution_count": 0,
      "outputs": []
    },
    {
      "metadata": {
        "id": "zRjtXUopNS5D",
        "colab_type": "code",
        "colab": {
          "base_uri": "https://localhost:8080/",
          "height": 3033
        },
        "outputId": "5c417660-4f4c-4ac5-bffa-b83a0eb1cac7"
      },
      "cell_type": "code",
      "source": [
        "encoder = LabelBinarizer()\n",
        "transfomed_label = encoder.fit_transform(y)\n",
        "print(transfomed_label)"
      ],
      "execution_count": 56,
      "outputs": [
        {
          "output_type": "stream",
          "text": [
            "[[0 0 1]\n",
            " [0 0 1]\n",
            " [0 0 1]\n",
            " [0 0 1]\n",
            " [0 0 1]\n",
            " [0 0 1]\n",
            " [0 0 1]\n",
            " [0 0 1]\n",
            " [0 0 1]\n",
            " [0 0 1]\n",
            " [0 0 1]\n",
            " [0 0 1]\n",
            " [0 0 1]\n",
            " [0 0 1]\n",
            " [0 0 1]\n",
            " [0 0 1]\n",
            " [0 0 1]\n",
            " [0 0 1]\n",
            " [0 0 1]\n",
            " [0 0 1]\n",
            " [0 0 1]\n",
            " [0 0 1]\n",
            " [0 0 1]\n",
            " [0 0 1]\n",
            " [0 0 1]\n",
            " [0 0 1]\n",
            " [0 0 1]\n",
            " [0 0 1]\n",
            " [0 0 1]\n",
            " [0 0 1]\n",
            " [0 0 1]\n",
            " [0 0 1]\n",
            " [0 0 1]\n",
            " [0 0 1]\n",
            " [0 0 1]\n",
            " [0 0 1]\n",
            " [0 0 1]\n",
            " [0 0 1]\n",
            " [0 0 1]\n",
            " [0 1 0]\n",
            " [0 1 0]\n",
            " [0 1 0]\n",
            " [0 1 0]\n",
            " [0 1 0]\n",
            " [0 1 0]\n",
            " [0 1 0]\n",
            " [0 1 0]\n",
            " [0 1 0]\n",
            " [0 1 0]\n",
            " [0 1 0]\n",
            " [0 1 0]\n",
            " [0 1 0]\n",
            " [0 1 0]\n",
            " [0 1 0]\n",
            " [0 1 0]\n",
            " [0 1 0]\n",
            " [0 1 0]\n",
            " [0 1 0]\n",
            " [0 1 0]\n",
            " [0 1 0]\n",
            " [0 1 0]\n",
            " [0 1 0]\n",
            " [0 1 0]\n",
            " [0 1 0]\n",
            " [0 1 0]\n",
            " [0 1 0]\n",
            " [0 1 0]\n",
            " [0 1 0]\n",
            " [0 1 0]\n",
            " [0 1 0]\n",
            " [0 1 0]\n",
            " [0 1 0]\n",
            " [0 1 0]\n",
            " [0 1 0]\n",
            " [0 1 0]\n",
            " [0 1 0]\n",
            " [0 1 0]\n",
            " [0 1 0]\n",
            " [0 1 0]\n",
            " [0 1 0]\n",
            " [0 0 1]\n",
            " [1 0 0]\n",
            " [1 0 0]\n",
            " [1 0 0]\n",
            " [1 0 0]\n",
            " [0 0 1]\n",
            " [1 0 0]\n",
            " [1 0 0]\n",
            " [1 0 0]\n",
            " [1 0 0]\n",
            " [1 0 0]\n",
            " [1 0 0]\n",
            " [1 0 0]\n",
            " [1 0 0]\n",
            " [1 0 0]\n",
            " [1 0 0]\n",
            " [0 0 1]\n",
            " [1 0 0]\n",
            " [1 0 0]\n",
            " [1 0 0]\n",
            " [0 1 0]\n",
            " [1 0 0]\n",
            " [1 0 0]\n",
            " [1 0 0]\n",
            " [1 0 0]\n",
            " [1 0 0]\n",
            " [1 0 0]\n",
            " [1 0 0]\n",
            " [1 0 0]\n",
            " [1 0 0]\n",
            " [1 0 0]\n",
            " [1 0 0]\n",
            " [1 0 0]\n",
            " [1 0 0]\n",
            " [0 1 0]\n",
            " [1 0 0]\n",
            " [1 0 0]\n",
            " [1 0 0]\n",
            " [1 0 0]\n",
            " [1 0 0]\n",
            " [1 0 0]\n",
            " [1 0 0]\n",
            " [1 0 0]\n",
            " [1 0 0]\n",
            " [1 0 0]\n",
            " [1 0 0]\n",
            " [1 0 0]\n",
            " [1 0 0]\n",
            " [1 0 0]\n",
            " [1 0 0]\n",
            " [1 0 0]\n",
            " [1 0 0]\n",
            " [1 0 0]\n",
            " [0 0 1]\n",
            " [0 0 1]\n",
            " [0 0 1]\n",
            " [0 0 1]\n",
            " [0 0 1]\n",
            " [0 0 1]\n",
            " [0 0 1]\n",
            " [0 0 1]\n",
            " [0 0 1]\n",
            " [0 0 1]\n",
            " [0 0 1]\n",
            " [0 0 1]\n",
            " [0 0 1]\n",
            " [0 0 1]\n",
            " [0 0 1]\n",
            " [0 0 1]\n",
            " [0 0 1]\n",
            " [0 0 1]\n",
            " [0 0 1]\n",
            " [0 0 1]\n",
            " [0 0 1]\n",
            " [0 0 1]\n",
            " [0 0 1]\n",
            " [0 0 1]\n",
            " [0 0 1]\n",
            " [0 0 1]\n",
            " [0 0 1]\n",
            " [0 0 1]\n",
            " [0 1 0]\n",
            " [0 1 0]\n",
            " [0 1 0]\n",
            " [0 1 0]\n",
            " [0 1 0]\n",
            " [0 1 0]\n",
            " [0 1 0]\n",
            " [0 1 0]\n",
            " [0 1 0]\n",
            " [1 0 0]\n",
            " [1 0 0]\n",
            " [1 0 0]\n",
            " [1 0 0]]\n"
          ],
          "name": "stdout"
        }
      ]
    },
    {
      "metadata": {
        "id": "oCyoPvafORrp",
        "colab_type": "code",
        "colab": {
          "base_uri": "https://localhost:8080/",
          "height": 35
        },
        "outputId": "fd80e0f9-2fdc-4aa5-8daa-f914cbff7ff9"
      },
      "cell_type": "code",
      "source": [
        "y = transfomed_label\n",
        "encoder.classes_"
      ],
      "execution_count": 57,
      "outputs": [
        {
          "output_type": "execute_result",
          "data": {
            "text/plain": [
              "array([0, 1, 2])"
            ]
          },
          "metadata": {
            "tags": []
          },
          "execution_count": 57
        }
      ]
    },
    {
      "metadata": {
        "id": "H8bCjeDV-v9-",
        "colab_type": "code",
        "colab": {}
      },
      "cell_type": "code",
      "source": [
        "from keras.preprocessing.text import Tokenizer\n",
        "from keras.preprocessing.sequence import pad_sequences"
      ],
      "execution_count": 0,
      "outputs": []
    },
    {
      "metadata": {
        "id": "fuATeUdE_Dcu",
        "colab_type": "code",
        "colab": {}
      },
      "cell_type": "code",
      "source": [
        "maxlen = 100\n",
        "training_samples = 125\n",
        "validation_samples = 49\n",
        "max_words = 100"
      ],
      "execution_count": 0,
      "outputs": []
    },
    {
      "metadata": {
        "id": "-hioGIO-_GOk",
        "colab_type": "code",
        "colab": {}
      },
      "cell_type": "code",
      "source": [
        "tokenizer = Tokenizer(num_words=max_words)\n",
        "tokenizer.fit_on_texts(X)\n",
        "sequences = tokenizer.texts_to_sequences(X)"
      ],
      "execution_count": 0,
      "outputs": []
    },
    {
      "metadata": {
        "id": "xr_HbIHS_KH_",
        "colab_type": "code",
        "colab": {
          "base_uri": "https://localhost:8080/",
          "height": 69
        },
        "outputId": "de82b9fe-d1e2-4646-8c04-cdf4a510ec3f"
      },
      "cell_type": "code",
      "source": [
        "word_index = tokenizer.word_index\n",
        "print('Found %s unique tokens.' % len(word_index))\n",
        "data = pad_sequences(sequences, maxlen=maxlen)\n",
        "labels = np.asarray(y)\n",
        "print('Shape of data tensor:', data.shape)\n",
        "print('Shape of label tensor:', labels.shape)"
      ],
      "execution_count": 27,
      "outputs": [
        {
          "output_type": "stream",
          "text": [
            "Found 1839 unique tokens.\n",
            "Shape of data tensor: (174, 100)\n",
            "Shape of label tensor: (174, 3)\n"
          ],
          "name": "stdout"
        }
      ]
    },
    {
      "metadata": {
        "id": "STyj1boX_W13",
        "colab_type": "code",
        "colab": {}
      },
      "cell_type": "code",
      "source": [
        "indices = np.arange(data.shape[0])\n",
        "np.random.shuffle(indices)\n",
        "data = data[indices]\n",
        "labels = labels[indices]"
      ],
      "execution_count": 0,
      "outputs": []
    },
    {
      "metadata": {
        "id": "L-NPjb1k_YSX",
        "colab_type": "code",
        "colab": {}
      },
      "cell_type": "code",
      "source": [
        "x_train = data[:training_samples]\n",
        "y_train = labels[:training_samples]\n",
        "x_val = data[training_samples: training_samples + validation_samples]\n",
        "y_val = labels[training_samples: training_samples + validation_samples]"
      ],
      "execution_count": 0,
      "outputs": []
    },
    {
      "metadata": {
        "id": "L8EEdLpuO2jC",
        "colab_type": "code",
        "colab": {
          "base_uri": "https://localhost:8080/",
          "height": 87
        },
        "outputId": "cc37b1f7-f6a0-46c0-b413-1b6a1681cf44"
      },
      "cell_type": "code",
      "source": [
        "print('x_train.shape', x_train.shape)\n",
        "print('y_train.shape', y_train.shape)\n",
        "print('x_val.shape', x_val.shape)\n",
        "print('y_val.shape', y_val.shape)"
      ],
      "execution_count": 45,
      "outputs": [
        {
          "output_type": "stream",
          "text": [
            "x_train.shape (125, 100)\n",
            "y_train.shape (125, 3)\n",
            "x_val.shape (49, 100)\n",
            "y_val.shape (49, 3)\n"
          ],
          "name": "stdout"
        }
      ]
    },
    {
      "metadata": {
        "id": "5-CCvw5CHbvD",
        "colab_type": "code",
        "colab": {
          "base_uri": "https://localhost:8080/",
          "height": 69
        },
        "outputId": "a184abbc-19f5-4d24-fd7d-f43a872935fd"
      },
      "cell_type": "code",
      "source": [
        "train_dataset_url = \"http://nlp.stanford.edu/data/glove.6B.zip\"\n",
        "\n",
        "train_dataset_fp = tf.keras.utils.get_file(fname=os.path.basename(train_dataset_url),\n",
        "                                           origin=train_dataset_url)\n",
        "\n",
        "print(\"Local copy of the dataset file: {}\".format(train_dataset_fp))"
      ],
      "execution_count": 31,
      "outputs": [
        {
          "output_type": "stream",
          "text": [
            "Downloading data from http://nlp.stanford.edu/data/glove.6B.zip\n",
            "501620736/862182613 [================>.............] - ETA: 53s"
          ],
          "name": "stdout"
        },
        {
          "output_type": "stream",
          "text": [
            "862183424/862182613 [==============================] - 131s 0us/step\n",
            "Local copy of the dataset file: /content/.keras/datasets/glove.6B.zip\n"
          ],
          "name": "stdout"
        }
      ]
    },
    {
      "metadata": {
        "id": "ob2aaSBjIiHK",
        "colab_type": "code",
        "colab": {
          "base_uri": "https://localhost:8080/",
          "height": 104
        },
        "outputId": "4e084715-8889-4d9b-d9ce-c165db09f153"
      },
      "cell_type": "code",
      "source": [
        "!unzip {train_dataset_fp}"
      ],
      "execution_count": 32,
      "outputs": [
        {
          "output_type": "stream",
          "text": [
            "Archive:  /content/.keras/datasets/glove.6B.zip\n",
            "  inflating: glove.6B.50d.txt        \n",
            "  inflating: glove.6B.100d.txt       \n",
            "  inflating: glove.6B.200d.txt       \n",
            "  inflating: glove.6B.300d.txt       \n"
          ],
          "name": "stdout"
        }
      ]
    },
    {
      "metadata": {
        "id": "cMjoUeAqIiQw",
        "colab_type": "code",
        "colab": {
          "base_uri": "https://localhost:8080/",
          "height": 104
        },
        "outputId": "4307b0c8-2d22-4c2a-8a9a-98e5541137ff"
      },
      "cell_type": "code",
      "source": [
        "!ls"
      ],
      "execution_count": 33,
      "outputs": [
        {
          "output_type": "stream",
          "text": [
            "datalab\t\t   linkedin_developer_nlp_analysis (1).xlsx\r\n",
            "glove.6B.100d.txt  linkedin_developer_nlp_analysis (2).xlsx\r\n",
            "glove.6B.200d.txt  linkedin_developer_nlp_analysis (3).xlsx\r\n",
            "glove.6B.300d.txt  linkedin_developer_nlp_analysis (4).xlsx\r\n",
            "glove.6B.50d.txt   linkedin_developer_nlp_analysis.xlsx\r\n"
          ],
          "name": "stdout"
        }
      ]
    },
    {
      "metadata": {
        "id": "uBLDZSgAFYLF",
        "colab_type": "code",
        "colab": {
          "base_uri": "https://localhost:8080/",
          "height": 35
        },
        "outputId": "4f4cdab9-eba3-4627-f5a2-3c90199fd4f7"
      },
      "cell_type": "code",
      "source": [
        "embeddings_index = {}\n",
        "f = open('./glove.6B.100d.txt')\n",
        "\n",
        "for line in f:\n",
        "  values = line.split()\n",
        "  word = values[0]\n",
        "  coefs = np.asarray(values[1:], dtype='float32')\n",
        "  embeddings_index[word] = coefs\n",
        "f.close()\n",
        "print('Found %s word vectors.' % len(embeddings_index))"
      ],
      "execution_count": 34,
      "outputs": [
        {
          "output_type": "stream",
          "text": [
            "Found 400000 word vectors.\n"
          ],
          "name": "stdout"
        }
      ]
    },
    {
      "metadata": {
        "id": "LMspvrOLHOcf",
        "colab_type": "code",
        "colab": {}
      },
      "cell_type": "code",
      "source": [
        "embedding_dim = 100\n",
        "embedding_matrix = np.zeros((max_words, embedding_dim))\n",
        "\n",
        "for word, i in word_index.items():\n",
        "  if i < max_words:\n",
        "    embedding_vector = embeddings_index.get(word)\n",
        "    if embedding_vector is not None:\n",
        "      embedding_matrix[i] = embedding_vector"
      ],
      "execution_count": 0,
      "outputs": []
    },
    {
      "metadata": {
        "id": "T9YV4lloJtGJ",
        "colab_type": "code",
        "colab": {
          "base_uri": "https://localhost:8080/",
          "height": 277
        },
        "outputId": "0dd13740-d851-4a92-a4c9-b12ed0c24973"
      },
      "cell_type": "code",
      "source": [
        "from keras.models import Sequential\n",
        "from keras.layers import Embedding, Flatten, Dense\n",
        "model = Sequential()\n",
        "model.add(Embedding(max_words, embedding_dim, input_length=maxlen))\n",
        "model.add(Flatten())\n",
        "model.add(Dense(32, activation='relu'))\n",
        "model.add(Dense(3, activation='sigmoid'))\n",
        "model.summary()"
      ],
      "execution_count": 46,
      "outputs": [
        {
          "output_type": "stream",
          "text": [
            "_________________________________________________________________\n",
            "Layer (type)                 Output Shape              Param #   \n",
            "=================================================================\n",
            "embedding_3 (Embedding)      (None, 100, 100)          10000     \n",
            "_________________________________________________________________\n",
            "flatten_3 (Flatten)          (None, 10000)             0         \n",
            "_________________________________________________________________\n",
            "dense_5 (Dense)              (None, 32)                320032    \n",
            "_________________________________________________________________\n",
            "dense_6 (Dense)              (None, 3)                 99        \n",
            "=================================================================\n",
            "Total params: 330,131\n",
            "Trainable params: 330,131\n",
            "Non-trainable params: 0\n",
            "_________________________________________________________________\n"
          ],
          "name": "stdout"
        }
      ]
    },
    {
      "metadata": {
        "id": "BVC0x3A_JwNJ",
        "colab_type": "code",
        "colab": {}
      },
      "cell_type": "code",
      "source": [
        "model.layers[0].set_weights([embedding_matrix])\n",
        "model.layers[0].trainable = False"
      ],
      "execution_count": 0,
      "outputs": []
    },
    {
      "metadata": {
        "id": "hR5gpnBcLDTH",
        "colab_type": "code",
        "colab": {
          "base_uri": "https://localhost:8080/",
          "height": 3521
        },
        "outputId": "98dd3f6e-3350-4d31-ee1c-92239b9797d8"
      },
      "cell_type": "code",
      "source": [
        "model.compile(optimizer='rmsprop',\n",
        "loss='categorical_crossentropy',\n",
        "metrics=['acc'])\n",
        "history = model.fit(x_train, y_train,\n",
        "epochs=100,\n",
        "batch_size=32,\n",
        "validation_data=(x_val, y_val))\n",
        "model.save_weights('pre_trained_glove_model.h5')"
      ],
      "execution_count": 48,
      "outputs": [
        {
          "output_type": "stream",
          "text": [
            "Train on 125 samples, validate on 49 samples\n",
            "Epoch 1/100\n",
            "125/125 [==============================] - 0s 1ms/step - loss: 1.1964 - acc: 0.3680 - val_loss: 1.0080 - val_acc: 0.4490\n",
            "Epoch 2/100\n",
            "125/125 [==============================] - 0s 269us/step - loss: 0.9673 - acc: 0.3040 - val_loss: 0.9522 - val_acc: 0.4490\n",
            "Epoch 3/100\n",
            "125/125 [==============================] - 0s 293us/step - loss: 0.8932 - acc: 0.4240 - val_loss: 0.9412 - val_acc: 0.4490\n",
            "Epoch 4/100\n",
            "125/125 [==============================] - 0s 245us/step - loss: 0.8600 - acc: 0.4400 - val_loss: 0.9850 - val_acc: 0.4490\n",
            "Epoch 5/100\n",
            "125/125 [==============================] - 0s 248us/step - loss: 0.8322 - acc: 0.4640 - val_loss: 0.9770 - val_acc: 0.4490\n",
            "Epoch 6/100\n",
            "125/125 [==============================] - 0s 258us/step - loss: 0.8107 - acc: 0.4720 - val_loss: 0.9498 - val_acc: 0.4490\n",
            "Epoch 7/100\n",
            "125/125 [==============================] - 0s 252us/step - loss: 0.7967 - acc: 0.5360 - val_loss: 1.1699 - val_acc: 0.4490\n",
            "Epoch 8/100\n",
            "125/125 [==============================] - 0s 242us/step - loss: 0.7714 - acc: 0.5760 - val_loss: 0.9343 - val_acc: 0.4694\n",
            "Epoch 9/100\n",
            "125/125 [==============================] - 0s 235us/step - loss: 0.7297 - acc: 0.5920 - val_loss: 0.9003 - val_acc: 0.4898\n",
            "Epoch 10/100\n",
            "125/125 [==============================] - 0s 249us/step - loss: 0.7117 - acc: 0.5920 - val_loss: 0.9126 - val_acc: 0.4898\n",
            "Epoch 11/100\n",
            "125/125 [==============================] - 0s 270us/step - loss: 0.7043 - acc: 0.5920 - val_loss: 0.9165 - val_acc: 0.4694\n",
            "Epoch 12/100\n",
            "125/125 [==============================] - 0s 251us/step - loss: 0.7008 - acc: 0.5920 - val_loss: 0.9284 - val_acc: 0.4490\n",
            "Epoch 13/100\n",
            "125/125 [==============================] - 0s 267us/step - loss: 0.6980 - acc: 0.5920 - val_loss: 0.9323 - val_acc: 0.4490\n",
            "Epoch 14/100\n",
            "125/125 [==============================] - 0s 246us/step - loss: 0.6957 - acc: 0.5920 - val_loss: 0.9333 - val_acc: 0.4490\n",
            "Epoch 15/100\n",
            "125/125 [==============================] - 0s 260us/step - loss: 0.6938 - acc: 0.5920 - val_loss: 0.9468 - val_acc: 0.4490\n",
            "Epoch 16/100\n",
            "125/125 [==============================] - 0s 253us/step - loss: 0.6923 - acc: 0.5920 - val_loss: 0.9559 - val_acc: 0.4490\n",
            "Epoch 17/100\n",
            "125/125 [==============================] - 0s 265us/step - loss: 0.6910 - acc: 0.5760 - val_loss: 0.9622 - val_acc: 0.4490\n",
            "Epoch 18/100\n",
            "125/125 [==============================] - 0s 310us/step - loss: 0.6899 - acc: 0.5920 - val_loss: 0.9663 - val_acc: 0.4490\n",
            "Epoch 19/100\n",
            "125/125 [==============================] - 0s 247us/step - loss: 0.6890 - acc: 0.5920 - val_loss: 0.9784 - val_acc: 0.4490\n",
            "Epoch 20/100\n",
            "125/125 [==============================] - 0s 239us/step - loss: 0.6882 - acc: 0.5920 - val_loss: 0.9812 - val_acc: 0.3673\n",
            "Epoch 21/100\n",
            "125/125 [==============================] - 0s 237us/step - loss: 0.6876 - acc: 0.5440 - val_loss: 0.9864 - val_acc: 0.3673\n",
            "Epoch 22/100\n",
            "125/125 [==============================] - 0s 255us/step - loss: 0.6870 - acc: 0.5680 - val_loss: 0.9933 - val_acc: 0.3673\n",
            "Epoch 23/100\n",
            " 32/125 [======>.......................] - ETA: 0s - loss: 0.7543 - acc: 0.5312"
          ],
          "name": "stdout"
        },
        {
          "output_type": "stream",
          "text": [
            "\b\b\b\b\b\b\b\b\b\b\b\b\b\b\b\b\b\b\b\b\b\b\b\b\b\b\b\b\b\b\b\b\b\b\b\b\b\b\b\b\b\b\b\b\b\b\b\b\b\b\b\b\b\b\b\b\b\b\b\b\b\b\b\b\b\b\b\b\b\b\b\b\b\b\b\b\b\b\b\r125/125 [==============================] - 0s 267us/step - loss: 0.6865 - acc: 0.5760 - val_loss: 0.9919 - val_acc: 0.3673\n",
            "Epoch 24/100\n",
            "125/125 [==============================] - 0s 265us/step - loss: 0.6861 - acc: 0.5680 - val_loss: 1.0044 - val_acc: 0.3673\n",
            "Epoch 25/100\n",
            "125/125 [==============================] - 0s 265us/step - loss: 0.6858 - acc: 0.6000 - val_loss: 1.0126 - val_acc: 0.3673\n",
            "Epoch 26/100\n",
            "125/125 [==============================] - 0s 224us/step - loss: 0.6856 - acc: 0.6000 - val_loss: 1.0065 - val_acc: 0.3673\n",
            "Epoch 27/100\n",
            "125/125 [==============================] - 0s 258us/step - loss: 0.6854 - acc: 0.6000 - val_loss: 1.0218 - val_acc: 0.3673\n",
            "Epoch 28/100\n",
            "125/125 [==============================] - 0s 251us/step - loss: 0.6852 - acc: 0.6000 - val_loss: 1.0226 - val_acc: 0.3673\n",
            "Epoch 29/100\n",
            "125/125 [==============================] - 0s 241us/step - loss: 0.6851 - acc: 0.6000 - val_loss: 1.0159 - val_acc: 0.3673\n",
            "Epoch 30/100\n",
            "125/125 [==============================] - 0s 251us/step - loss: 0.6849 - acc: 0.6000 - val_loss: 1.0214 - val_acc: 0.3673\n",
            "Epoch 31/100\n",
            "125/125 [==============================] - 0s 229us/step - loss: 0.6848 - acc: 0.6000 - val_loss: 1.0316 - val_acc: 0.3673\n",
            "Epoch 32/100\n",
            "125/125 [==============================] - 0s 235us/step - loss: 0.6847 - acc: 0.6000 - val_loss: 1.0247 - val_acc: 0.3673\n",
            "Epoch 33/100\n",
            "125/125 [==============================] - 0s 261us/step - loss: 0.6846 - acc: 0.6000 - val_loss: 1.0326 - val_acc: 0.3673\n",
            "Epoch 34/100\n",
            "125/125 [==============================] - 0s 247us/step - loss: 0.6845 - acc: 0.6000 - val_loss: 1.0405 - val_acc: 0.3673\n",
            "Epoch 35/100\n",
            "125/125 [==============================] - 0s 250us/step - loss: 0.6845 - acc: 0.6000 - val_loss: 1.0298 - val_acc: 0.3673\n",
            "Epoch 36/100\n",
            "125/125 [==============================] - 0s 252us/step - loss: 0.6844 - acc: 0.6000 - val_loss: 1.0366 - val_acc: 0.3673\n",
            "Epoch 37/100\n",
            "125/125 [==============================] - 0s 248us/step - loss: 0.6845 - acc: 0.6000 - val_loss: 1.0363 - val_acc: 0.3673\n",
            "Epoch 38/100\n",
            "125/125 [==============================] - 0s 251us/step - loss: 0.6844 - acc: 0.6000 - val_loss: 1.0421 - val_acc: 0.3673\n",
            "Epoch 39/100\n",
            "125/125 [==============================] - 0s 255us/step - loss: 0.6843 - acc: 0.6000 - val_loss: 1.0396 - val_acc: 0.3673\n",
            "Epoch 40/100\n",
            "125/125 [==============================] - 0s 297us/step - loss: 0.6843 - acc: 0.6000 - val_loss: 1.0391 - val_acc: 0.3673\n",
            "Epoch 41/100\n",
            "125/125 [==============================] - 0s 247us/step - loss: 0.6843 - acc: 0.6000 - val_loss: 1.0566 - val_acc: 0.3673\n",
            "Epoch 42/100\n",
            "125/125 [==============================] - 0s 253us/step - loss: 0.6843 - acc: 0.6000 - val_loss: 1.0351 - val_acc: 0.3673\n",
            "Epoch 43/100\n",
            "125/125 [==============================] - 0s 254us/step - loss: 0.6842 - acc: 0.6000 - val_loss: 1.0418 - val_acc: 0.3673\n",
            "Epoch 44/100\n",
            "125/125 [==============================] - 0s 257us/step - loss: 0.6842 - acc: 0.6000 - val_loss: 1.0530 - val_acc: 0.3673\n",
            "Epoch 45/100\n",
            " 32/125 [======>.......................] - ETA: 0s - loss: 0.6830 - acc: 0.6250"
          ],
          "name": "stdout"
        },
        {
          "output_type": "stream",
          "text": [
            "\b\b\b\b\b\b\b\b\b\b\b\b\b\b\b\b\b\b\b\b\b\b\b\b\b\b\b\b\b\b\b\b\b\b\b\b\b\b\b\b\b\b\b\b\b\b\b\b\b\b\b\b\b\b\b\b\b\b\b\b\b\b\b\b\b\b\b\b\b\b\b\b\b\b\b\b\b\b\b\r125/125 [==============================] - 0s 263us/step - loss: 0.6842 - acc: 0.6000 - val_loss: 1.0493 - val_acc: 0.3673\n",
            "Epoch 46/100\n",
            "125/125 [==============================] - 0s 244us/step - loss: 0.6841 - acc: 0.6000 - val_loss: 1.0404 - val_acc: 0.3673\n",
            "Epoch 47/100\n",
            "125/125 [==============================] - 0s 272us/step - loss: 0.6841 - acc: 0.6000 - val_loss: 1.0469 - val_acc: 0.3673\n",
            "Epoch 48/100\n",
            "125/125 [==============================] - 0s 241us/step - loss: 0.6841 - acc: 0.6000 - val_loss: 1.0535 - val_acc: 0.3673\n",
            "Epoch 49/100\n",
            "125/125 [==============================] - 0s 246us/step - loss: 0.6840 - acc: 0.6000 - val_loss: 1.0570 - val_acc: 0.3673\n",
            "Epoch 50/100\n",
            "125/125 [==============================] - 0s 243us/step - loss: 0.6841 - acc: 0.6000 - val_loss: 1.0680 - val_acc: 0.3673\n",
            "Epoch 51/100\n",
            "125/125 [==============================] - 0s 249us/step - loss: 0.6840 - acc: 0.6000 - val_loss: 1.0659 - val_acc: 0.3673\n",
            "Epoch 52/100\n",
            "125/125 [==============================] - 0s 276us/step - loss: 0.6841 - acc: 0.6000 - val_loss: 1.0641 - val_acc: 0.3673\n",
            "Epoch 53/100\n",
            "125/125 [==============================] - 0s 244us/step - loss: 0.6840 - acc: 0.6000 - val_loss: 1.0769 - val_acc: 0.3673\n",
            "Epoch 54/100\n",
            "125/125 [==============================] - 0s 248us/step - loss: 0.6839 - acc: 0.6000 - val_loss: 1.0659 - val_acc: 0.3673\n",
            "Epoch 55/100\n",
            "125/125 [==============================] - 0s 235us/step - loss: 0.6839 - acc: 0.6000 - val_loss: 1.0664 - val_acc: 0.3673\n",
            "Epoch 56/100\n",
            "125/125 [==============================] - 0s 229us/step - loss: 0.6839 - acc: 0.6000 - val_loss: 1.0728 - val_acc: 0.3673\n",
            "Epoch 57/100\n",
            "125/125 [==============================] - 0s 250us/step - loss: 0.6840 - acc: 0.6000 - val_loss: 1.0678 - val_acc: 0.3673\n",
            "Epoch 58/100\n",
            "125/125 [==============================] - 0s 274us/step - loss: 0.6839 - acc: 0.6000 - val_loss: 1.0698 - val_acc: 0.3673\n",
            "Epoch 59/100\n",
            "125/125 [==============================] - 0s 240us/step - loss: 0.6839 - acc: 0.6000 - val_loss: 1.0682 - val_acc: 0.3673\n",
            "Epoch 60/100\n",
            "125/125 [==============================] - 0s 233us/step - loss: 0.6838 - acc: 0.6000 - val_loss: 1.0793 - val_acc: 0.3673\n",
            "Epoch 61/100\n",
            "125/125 [==============================] - 0s 237us/step - loss: 0.6838 - acc: 0.6000 - val_loss: 1.0862 - val_acc: 0.3673\n",
            "Epoch 62/100\n",
            "125/125 [==============================] - 0s 237us/step - loss: 0.6838 - acc: 0.6000 - val_loss: 1.0687 - val_acc: 0.3673\n",
            "Epoch 63/100\n",
            "125/125 [==============================] - 0s 281us/step - loss: 0.6838 - acc: 0.6000 - val_loss: 1.0753 - val_acc: 0.3673\n",
            "Epoch 64/100\n",
            "125/125 [==============================] - 0s 277us/step - loss: 0.6838 - acc: 0.6000 - val_loss: 1.0745 - val_acc: 0.3673\n",
            "Epoch 65/100\n",
            "125/125 [==============================] - 0s 289us/step - loss: 0.6838 - acc: 0.6000 - val_loss: 1.0824 - val_acc: 0.3673\n",
            "Epoch 66/100\n",
            "125/125 [==============================] - 0s 267us/step - loss: 0.6839 - acc: 0.6000 - val_loss: 1.0818 - val_acc: 0.3673\n",
            "Epoch 67/100\n",
            " 32/125 [======>.......................] - ETA: 0s - loss: 0.6583 - acc: 0.5938"
          ],
          "name": "stdout"
        },
        {
          "output_type": "stream",
          "text": [
            "125/125 [==============================] - 0s 280us/step - loss: 0.6837 - acc: 0.6000 - val_loss: 1.0849 - val_acc: 0.3673\n",
            "Epoch 68/100\n",
            "125/125 [==============================] - 0s 267us/step - loss: 0.6838 - acc: 0.6000 - val_loss: 1.0930 - val_acc: 0.3673\n",
            "Epoch 69/100\n",
            "125/125 [==============================] - 0s 283us/step - loss: 0.6837 - acc: 0.6000 - val_loss: 1.0795 - val_acc: 0.3673\n",
            "Epoch 70/100\n",
            "125/125 [==============================] - 0s 277us/step - loss: 0.6837 - acc: 0.6000 - val_loss: 1.0839 - val_acc: 0.3673\n",
            "Epoch 71/100\n",
            "125/125 [==============================] - 0s 270us/step - loss: 0.6837 - acc: 0.6000 - val_loss: 1.0934 - val_acc: 0.3673\n",
            "Epoch 72/100\n",
            "125/125 [==============================] - 0s 264us/step - loss: 0.6837 - acc: 0.6000 - val_loss: 1.0952 - val_acc: 0.3673\n",
            "Epoch 73/100\n",
            "125/125 [==============================] - 0s 267us/step - loss: 0.6837 - acc: 0.6000 - val_loss: 1.0880 - val_acc: 0.3673\n",
            "Epoch 74/100\n",
            "125/125 [==============================] - 0s 277us/step - loss: 0.6837 - acc: 0.6000 - val_loss: 1.0965 - val_acc: 0.3673\n",
            "Epoch 75/100\n",
            "125/125 [==============================] - 0s 272us/step - loss: 0.6837 - acc: 0.6000 - val_loss: 1.0989 - val_acc: 0.3673\n",
            "Epoch 76/100\n",
            "125/125 [==============================] - 0s 285us/step - loss: 0.6836 - acc: 0.6000 - val_loss: 1.0902 - val_acc: 0.3673\n",
            "Epoch 77/100\n",
            "125/125 [==============================] - 0s 257us/step - loss: 0.6836 - acc: 0.6000 - val_loss: 1.0933 - val_acc: 0.3673\n",
            "Epoch 78/100\n",
            "125/125 [==============================] - 0s 272us/step - loss: 0.6839 - acc: 0.6000 - val_loss: 1.0933 - val_acc: 0.3673\n",
            "Epoch 79/100\n",
            "125/125 [==============================] - 0s 302us/step - loss: 0.6836 - acc: 0.6000 - val_loss: 1.0990 - val_acc: 0.3673\n",
            "Epoch 80/100\n",
            "125/125 [==============================] - 0s 282us/step - loss: 0.6837 - acc: 0.6000 - val_loss: 1.0936 - val_acc: 0.3673\n",
            "Epoch 81/100\n",
            "125/125 [==============================] - 0s 316us/step - loss: 0.6836 - acc: 0.6000 - val_loss: 1.0962 - val_acc: 0.3673\n",
            "Epoch 82/100\n",
            "125/125 [==============================] - 0s 295us/step - loss: 0.6836 - acc: 0.6000 - val_loss: 1.1015 - val_acc: 0.3673\n",
            "Epoch 83/100\n",
            "125/125 [==============================] - 0s 285us/step - loss: 0.6837 - acc: 0.6000 - val_loss: 1.1114 - val_acc: 0.3673\n",
            "Epoch 84/100\n",
            "125/125 [==============================] - 0s 281us/step - loss: 0.6836 - acc: 0.6000 - val_loss: 1.1054 - val_acc: 0.3673\n",
            "Epoch 85/100\n",
            "125/125 [==============================] - 0s 277us/step - loss: 0.6836 - acc: 0.6000 - val_loss: 1.1061 - val_acc: 0.3673\n",
            "Epoch 86/100\n",
            "125/125 [==============================] - 0s 280us/step - loss: 0.6835 - acc: 0.6000 - val_loss: 1.1046 - val_acc: 0.3673\n",
            "Epoch 87/100\n",
            "125/125 [==============================] - 0s 317us/step - loss: 0.6836 - acc: 0.6000 - val_loss: 1.1019 - val_acc: 0.3673\n",
            "Epoch 88/100\n",
            "125/125 [==============================] - 0s 261us/step - loss: 0.6835 - acc: 0.6000 - val_loss: 1.1028 - val_acc: 0.3673\n",
            "Epoch 89/100\n",
            "125/125 [==============================] - 0s 267us/step - loss: 0.6836 - acc: 0.6000 - val_loss: 1.1016 - val_acc: 0.3673\n",
            "Epoch 90/100\n",
            "125/125 [==============================] - 0s 265us/step - loss: 0.6836 - acc: 0.6000 - val_loss: 1.0982 - val_acc: 0.3673\n",
            "Epoch 91/100\n",
            " 32/125 [======>.......................] - ETA: 0s - loss: 0.6414 - acc: 0.7188"
          ],
          "name": "stdout"
        },
        {
          "output_type": "stream",
          "text": [
            "125/125 [==============================] - 0s 258us/step - loss: 0.6837 - acc: 0.6000 - val_loss: 1.0976 - val_acc: 0.3673\n",
            "Epoch 92/100\n",
            "125/125 [==============================] - 0s 278us/step - loss: 0.6836 - acc: 0.6000 - val_loss: 1.0973 - val_acc: 0.3673\n",
            "Epoch 93/100\n",
            "125/125 [==============================] - 0s 249us/step - loss: 0.6835 - acc: 0.6000 - val_loss: 1.0967 - val_acc: 0.3673\n",
            "Epoch 94/100\n",
            "125/125 [==============================] - 0s 279us/step - loss: 0.6836 - acc: 0.6000 - val_loss: 1.0955 - val_acc: 0.3673\n",
            "Epoch 95/100\n",
            "125/125 [==============================] - 0s 316us/step - loss: 0.6836 - acc: 0.6000 - val_loss: 1.1003 - val_acc: 0.3673\n",
            "Epoch 96/100\n",
            "125/125 [==============================] - 0s 288us/step - loss: 0.6835 - acc: 0.6000 - val_loss: 1.1018 - val_acc: 0.3673\n",
            "Epoch 97/100\n",
            "125/125 [==============================] - 0s 276us/step - loss: 0.6835 - acc: 0.6000 - val_loss: 1.1061 - val_acc: 0.3673\n",
            "Epoch 98/100\n",
            "125/125 [==============================] - 0s 275us/step - loss: 0.6835 - acc: 0.6000 - val_loss: 1.1097 - val_acc: 0.3673\n",
            "Epoch 99/100\n",
            "125/125 [==============================] - 0s 278us/step - loss: 0.6835 - acc: 0.6000 - val_loss: 1.1120 - val_acc: 0.3673\n",
            "Epoch 100/100\n",
            "125/125 [==============================] - 0s 304us/step - loss: 0.6835 - acc: 0.6000 - val_loss: 1.1086 - val_acc: 0.3673\n"
          ],
          "name": "stdout"
        }
      ]
    },
    {
      "metadata": {
        "id": "LYQd5vwGPxES",
        "colab_type": "code",
        "colab": {}
      },
      "cell_type": "code",
      "source": [
        "testing = [\"Experienced iOS App Developer with a demonstrated history of working in the information technology and services industry. Skilled in Object-Oriented Programming (OOP), WebGL, Microsoft Excel, Java, and Microsoft Word. Strong engineering professional with a Bachelor of Engineering - BE ocused in Computer Science from Thiagarajar College of Engineering\"]"
      ],
      "execution_count": 0,
      "outputs": []
    },
    {
      "metadata": {
        "id": "S_NqTtqyLKt5",
        "colab_type": "code",
        "colab": {}
      },
      "cell_type": "code",
      "source": [
        "def token_hot(text):\n",
        "  \n",
        "  text = np.array(text)\n",
        "  \n",
        "  tokenizer = Tokenizer(num_words=1000)\n",
        "  tokenizer.fit_on_texts(text)\n",
        "  sequences = tokenizer.texts_to_sequences(text)\n",
        "  \n",
        "  word_index = tokenizer.word_index\n",
        "  print('Found %s unique tokens.' % len(word_index))\n",
        "  \n",
        "  data = pad_sequences(sequences, maxlen=100)\n",
        "  print('Shape of data tensor:', data.shape)\n",
        "  return data"
      ],
      "execution_count": 0,
      "outputs": []
    },
    {
      "metadata": {
        "id": "C20oxMxCRV9Z",
        "colab_type": "code",
        "colab": {
          "base_uri": "https://localhost:8080/",
          "height": 52
        },
        "outputId": "1b3e9fe0-3dda-4cfd-c6de-4b5fb5981840"
      },
      "cell_type": "code",
      "source": [
        "checknew = (token_hot(testing))"
      ],
      "execution_count": 61,
      "outputs": [
        {
          "output_type": "stream",
          "text": [
            "Found 38 unique tokens.\n",
            "Shape of data tensor: (1, 100)\n"
          ],
          "name": "stdout"
        }
      ]
    },
    {
      "metadata": {
        "id": "IHhv5-yBRiZi",
        "colab_type": "code",
        "colab": {
          "base_uri": "https://localhost:8080/",
          "height": 35
        },
        "outputId": "10c2151d-5f74-4fa9-fdd4-b5db5dcd1cc8"
      },
      "cell_type": "code",
      "source": [
        "model.predict_classes(checknew)"
      ],
      "execution_count": 62,
      "outputs": [
        {
          "output_type": "execute_result",
          "data": {
            "text/plain": [
              "array([2])"
            ]
          },
          "metadata": {
            "tags": []
          },
          "execution_count": 62
        }
      ]
    },
    {
      "metadata": {
        "id": "Y-YneOHgS4Ac",
        "colab_type": "code",
        "colab": {}
      },
      "cell_type": "code",
      "source": [
        ""
      ],
      "execution_count": 0,
      "outputs": []
    }
  ]
}